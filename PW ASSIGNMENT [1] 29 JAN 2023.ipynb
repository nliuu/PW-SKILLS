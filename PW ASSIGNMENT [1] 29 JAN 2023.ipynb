{
 "cells": [
  {
   "cell_type": "markdown",
   "metadata": {},
   "source": [
    "ans.1 > Guido van Rossum"
   ]
  },
  {
   "cell_type": "markdown",
   "metadata": {},
   "source": [
    "ans.2 > Python supports Object-oriented programing, structured & functional programming,"
   ]
  },
  {
   "cell_type": "markdown",
   "metadata": {},
   "source": [
    "ans.3 > Yes, Python is case sensitive when dealing with identifiers."
   ]
  },
  {
   "cell_type": "markdown",
   "metadata": {},
   "source": [
    "ans.4 > '.py' is the correct extension of Python file."
   ]
  },
  {
   "cell_type": "markdown",
   "metadata": {},
   "source": [
    "ans.5 > Python code is interpreted."
   ]
  },
  {
   "cell_type": "markdown",
   "metadata": {},
   "source": [
    "ans.6 > a module, a function body, and a class definition."
   ]
  },
  {
   "cell_type": "markdown",
   "metadata": {},
   "source": [
    "ans.7 > '#' is used to give single-line comments in Python."
   ]
  },
  {
   "cell_type": "markdown",
   "metadata": {},
   "source": [
    "ans.8 > \"python_version()\" function is used to find the version of python thet we are currently working on."
   ]
  },
  {
   "cell_type": "markdown",
   "metadata": {},
   "source": [
    "ans.9 > Lambda, we can use the Lambda keyword to create anonymous functions."
   ]
  },
  {
   "cell_type": "markdown",
   "metadata": {},
   "source": [
    "ans.10 > Preferred Installer Program."
   ]
  },
  {
   "cell_type": "markdown",
   "metadata": {},
   "source": [
    "ans.11 > 'print()' , 'input()' , 'max()' , 'min()' , 'head()' , 'tail()' ."
   ]
  },
  {
   "cell_type": "markdown",
   "metadata": {},
   "source": [
    "ans.12 > 76 Characters"
   ]
  },
  {
   "cell_type": "markdown",
   "metadata": {},
   "source": [
    "ans.13 > Python has large developer community, also wide range of libraries that can be used across various applications"
   ]
  },
  {
   "cell_type": "markdown",
   "metadata": {},
   "source": [
    "ans.14 > Memory management in Python involves a private heap containing all python objects and data structures. the management of this private heap is ensured internally by the python memory manager."
   ]
  },
  {
   "cell_type": "markdown",
   "metadata": {},
   "source": [
    "ans.15 > The complete path of python.exe can be added by:\n",
    "\n",
    "Right-clicking This PC and going to Properties.\n",
    "\n",
    "Clicking on the Advanced system settings in the menu on the left.\n",
    "\n",
    "Clicking on the Environment Variables button on the bottom right.\n",
    "\n",
    "In the System variables section, selecting the Path variable and clicking on Edit.\n",
    "\n",
    "The next screen will show all the directories that are currently a part of the PATH variable.\n",
    "\n",
    "Clicking on New and entering Python’s install directory."
   ]
  },
  {
   "cell_type": "markdown",
   "metadata": {},
   "source": [
    "ans.16 > The indentation in Python is very important. Python uses indentation to indicate a block of code"
   ]
  }
 ],
 "metadata": {
  "kernelspec": {
   "display_name": "Python 3",
   "language": "python",
   "name": "python3"
  },
  "language_info": {
   "codemirror_mode": {
    "name": "ipython",
    "version": 3
   },
   "file_extension": ".py",
   "mimetype": "text/x-python",
   "name": "python",
   "nbconvert_exporter": "python",
   "pygments_lexer": "ipython3",
   "version": "3.7.6"
  }
 },
 "nbformat": 4,
 "nbformat_minor": 4
}
